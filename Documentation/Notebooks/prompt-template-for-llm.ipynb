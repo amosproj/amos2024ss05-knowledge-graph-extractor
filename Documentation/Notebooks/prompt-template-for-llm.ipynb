{
 "cells": [
  {
   "cell_type": "markdown",
   "metadata": {},
   "source": []
  },
  {
   "cell_type": "markdown",
   "metadata": {},
   "source": [
    "# A notebook to try out different llm promts and models until the setup is complete. \n",
    "\n",
    "For the diffrent Prompts i will orient myself on the following simular Projects: \n",
    "\n",
    "* https://arxiv.org/pdf/2403.11996\n",
    "* https://towardsdatascience.com/how-to-convert-any-text-into-a-graph-of-concepts-110844f22a1a\n",
    "* https://towardsdatascience.com/text-to-knowledge-graph-made-easy-with-graph-maker-f3f890c0dbe8\n",
    "\n",
    "Using the following model mistral:instruct using ollama.\n"
   ]
  },
  {
   "cell_type": "markdown",
   "metadata": {},
   "source": [
    "``\n",
    "pip install networkx matplotlib ollama pandas pyvis groq python-dotenv\n",
    "``\n"
   ]
  },
  {
   "cell_type": "markdown",
   "metadata": {},
   "source": [
    "### Test if the model is working\n",
    "\n"
   ]
  },
  {
   "cell_type": "code",
   "execution_count": 1,
   "metadata": {},
   "outputs": [],
   "source": [
    "import ollama\n",
    "# response = ollama.chat(model='mistral:instruct', messages=[\n",
    "#   {\n",
    "#     'role': 'user',\n",
    "#     'content': 'Why is the sky blue?',\n",
    "#   },\n",
    "# ])\n",
    "# print(response['message']['content'])"
   ]
  },
  {
   "cell_type": "code",
   "execution_count": 2,
   "metadata": {},
   "outputs": [],
   "source": [
    "input = \"\"\"\n",
    "Graph-based methods are widely used in various fields including social network analysis, biology, and computer science. \n",
    "For instance, in biology, protein-protein interactions can be modeled as graphs where nodes represent proteins and edges \n",
    "represent interactions between them. Similarly, in social networks, nodes can represent individuals and edges represent \n",
    "relationships such as friendships or professional connections. Computer scientists often use graph algorithms to solve \n",
    "problems related to networking, data organization, and artificial intelligence.\n",
    "\"\"\"\n",
    "\n"
   ]
  },
  {
   "cell_type": "code",
   "execution_count": 3,
   "metadata": {},
   "outputs": [],
   "source": [
    "input = \"3.2. Measurement framework The measurement framework provides the necessary requirements and rules for the capability dimension. It defines a schema which enables an assessor to determine the Capability Level of a given process. These capability levels are defined as part of the measurement framework. To enable the rating, the measurement framework provides process attributes defining a measurable property of process capability. Each process attribute is assigned to a specific capability level. The extent of achievement of a certain process attribute is represented by means of a rating based on a defined rating scale. The rules from which an assessor can derive a final capability level for a given process are represented by a process capability level model. Automotive SPICE defines its own measurement framework. Note: The Automotive SPICE measurement framework is an adaption of ISO/IEC 33020:2019. Text incorporated from ISO/IEC 33020 within this chapter is written in italic font and marked with a left side bar. 3.2.1. Process capability levels and process attributes The process capability levels, and associated process attributes are described in detail in chapter 5. Process attributes are features of a process that can be evaluated on a scale of achievement, providing a measurement of the capability of the process. They are applicable to all processes. A capability level is characterized by one or more process attributes whose implementation result in a significant improvement in the capability to perform a process. Each attribute addresses a specific aspect of the capability level. The levels constitute a rational way of progressing through improvement of the capability of any process. There are six capability levels as listed in Table 14, incorporating nine process attributes: Level 0: Incomplete process The process is not implemented or fails to achieve its process purpose. Level 1: Performed process The implemented process achieves its process purpose Level 2: Managed process The previously described performed process is now implemented in a managed fashion (planned, monitored and adjusted) and its work products are appropriately established, controlled and maintained.\""
   ]
  },
  {
   "cell_type": "code",
   "execution_count": 4,
   "metadata": {},
   "outputs": [],
   "source": [
    "# Example Promt form: the first article \n",
    "\n",
    "SYS_PROMPT = (\n",
    "    \"Only answer in a JSON format. \\n\"\n",
    "    \"You are a network graph maker who extracts terms and their relations from a given context. \"\n",
    "    \"You are provided with a context chunk (delimited by ```) Your task is to extract the ontology \"\n",
    "    \"of terms mentioned in the given context. These terms should represent the key concepts as per the context. \\n\"\n",
    "    \"Thought 1: While traversing through each sentence, Think about the key terms mentioned in it.\\n\"\n",
    "        \"\\tTerms may include object, entity, location, organization, person, \\n\"\n",
    "        \"\\tcondition, acronym, documents, service, concept, etc.\\n\"\n",
    "        \"\\tTerms should be as atomistic as possible\\n\\n\"\n",
    "    \"Thought 2: Think about how these terms can have one on one relation with other terms.\\n\"\n",
    "        \"\\tTerms that are mentioned in the same sentence or the same paragraph are typically related to each other.\\n\"\n",
    "        \"\\tTerms can be related to many other terms\\n\\n\"\n",
    "    \"Thought 3: Find out the relation between each such related pair of terms. \\n\\n\"\n",
    "    \"Format your output as a list of JSON. Each element of the list contains a pair of terms\"\n",
    "    \"and the relation between them, like the follwing: \\n\"\n",
    "    \"[\\n\"\n",
    "    \"   {\\n\"\n",
    "    '       \"node_1\": \"A concept from extracted ontology\",\\n'\n",
    "    '       \"node_2\": \"A related concept from extracted ontology\",\\n'\n",
    "    '       \"edge\": \"relationship between the two concepts, node_1 and node_2 in one or two sentences\"\\n'\n",
    "    \"   }, {...}\\n\"\n",
    "    \"]\"\n",
    ")\n",
    "\n",
    "USER_PROMPT = f\"context: ```{input}``` \\n\\n output: \""
   ]
  },
  {
   "cell_type": "code",
   "execution_count": 5,
   "metadata": {},
   "outputs": [
    {
     "data": {
      "text/plain": [
       "'Only answer in a JSON format. \\nYou are a network graph maker who extracts terms and their relations from a given context. You are provided with a context chunk (delimited by ```) Your task is to extract the ontology of terms mentioned in the given context. These terms should represent the key concepts as per the context. \\nThought 1: While traversing through each sentence, Think about the key terms mentioned in it.\\n\\tTerms may include object, entity, location, organization, person, \\n\\tcondition, acronym, documents, service, concept, etc.\\n\\tTerms should be as atomistic as possible\\n\\nThought 2: Think about how these terms can have one on one relation with other terms.\\n\\tTerms that are mentioned in the same sentence or the same paragraph are typically related to each other.\\n\\tTerms can be related to many other terms\\n\\nThought 3: Find out the relation between each such related pair of terms. \\n\\nFormat your output as a list of JSON. Each element of the list contains a pair of termsand the relation between them, like the follwing: \\n[\\n   {\\n       \"node_1\": \"A concept from extracted ontology\",\\n       \"node_2\": \"A related concept from extracted ontology\",\\n       \"edge\": \"relationship between the two concepts, node_1 and node_2 in one or two sentences\"\\n   }, {...}\\n]context: ```3.2. Measurement framework The measurement framework provides the necessary requirements and rules for the capability dimension. It defines a schema which enables an assessor to determine the Capability Level of a given process. These capability levels are defined as part of the measurement framework. To enable the rating, the measurement framework provides process attributes defining a measurable property of process capability. Each process attribute is assigned to a specific capability level. The extent of achievement of a certain process attribute is represented by means of a rating based on a defined rating scale. The rules from which an assessor can derive a final capability level for a given process are represented by a process capability level model. Automotive SPICE defines its own measurement framework. Note: The Automotive SPICE measurement framework is an adaption of ISO/IEC 33020:2019. Text incorporated from ISO/IEC 33020 within this chapter is written in italic font and marked with a left side bar. 3.2.1. Process capability levels and process attributes The process capability levels, and associated process attributes are described in detail in chapter 5. Process attributes are features of a process that can be evaluated on a scale of achievement, providing a measurement of the capability of the process. They are applicable to all processes. A capability level is characterized by one or more process attributes whose implementation result in a significant improvement in the capability to perform a process. Each attribute addresses a specific aspect of the capability level. The levels constitute a rational way of progressing through improvement of the capability of any process. There are six capability levels as listed in Table 14, incorporating nine process attributes: Level 0: Incomplete process The process is not implemented or fails to achieve its process purpose. Level 1: Performed process The implemented process achieves its process purpose Level 2: Managed process The previously described performed process is now implemented in a managed fashion (planned, monitored and adjusted) and its work products are appropriately established, controlled and maintained.``` \\n\\n output: '"
      ]
     },
     "execution_count": 5,
     "metadata": {},
     "output_type": "execute_result"
    }
   ],
   "source": [
    "# Combine the system and user prompts\n",
    "combined_prompt = SYS_PROMPT + USER_PROMPT\n",
    "combined_prompt"
   ]
  },
  {
   "cell_type": "code",
   "execution_count": 6,
   "metadata": {},
   "outputs": [
    {
     "data": {
      "text/plain": [
       "' [\\n   {\\n       \"node_1\": \"Measurement framework\",\\n       \"node_2\": \"Capability dimension\",\\n       \"edge\": \"The measurement framework provides the necessary requirements and rules for the capability dimension.\"\\n   },\\n   {\\n       \"node_1\": \"Measurement framework\",\\n       \"node_2\": \"Schema\",\\n       \"edge\": \"The measurement framework defines a schema which enables an assessor to determine the Capability Level of a given process.\"\\n   },\\n   {\\n       \"node_1\": \"Measurement framework\",\\n       \"node_2\": \"Process capability levels\",\\n       \"edge\": \"The measurement framework defines and provides rules for determining the Process Capability Levels.\"\\n   },\\n   {\\n       \"node_1\": \"Process capability levels\",\\n       \"node_2\": \"Level 0: Incomplete process\",\\n       \"edge\": \"A capability level is characterized by one or more process attributes whose implementation result in a significant improvement in the capability to perform a process. A process at Level 0 fails to achieve its process purpose.\"\\n   },\\n   {\\n       \"node_1\": \"Process capability levels\",\\n       \"node_2\": \"Level 1: Performed process\",\\n       \"edge\": \"A process at Level 1 achieves its process purpose.\"\\n   },\\n   {\\n       \"node_1\": \"Process capability levels\",\\n       \"node_2\": \"Level 2: Managed process\",\\n       \"edge\": \"A managed process is one that is implemented in a planned, monitored and adjusted fashion and its work products are appropriately established, controlled and maintained.\"\\n   },\\n   {\\n       \"node_1\": \"Measurement framework\",\\n       \"node_2\": \"Process attributes\",\\n       \"edge\": \"Process attributes are features of a process that can be evaluated on a scale of achievement, providing a measurement of the capability of the process.\"\\n   }\\n]'"
      ]
     },
     "execution_count": 6,
     "metadata": {},
     "output_type": "execute_result"
    }
   ],
   "source": [
    "response = ollama.chat(model='mistral:instruct', messages=[\n",
    "  {\n",
    "    'role': 'user',\n",
    "    'content': combined_prompt,\n",
    "  },\n",
    "])\n",
    "# print(response['message']['content'])\n",
    "\n",
    "# Set the output of the response to data\n",
    "data = response['message']['content']\n",
    "data"
   ]
  },
  {
   "cell_type": "code",
   "execution_count": 7,
   "metadata": {},
   "outputs": [
    {
     "data": {
      "text/plain": [
       "' [\\n   {\\n       \"node_1\": \"Measurement framework\",\\n       \"node_2\": \"Capability dimension\",\\n       \"edge\": \"The measurement framework provides the necessary requirements and rules for the capability dimension.\"\\n   },\\n   {\\n       \"node_1\": \"Measurement framework\",\\n       \"node_2\": \"Schema\",\\n       \"edge\": \"The measurement framework defines a schema which enables an assessor to determine the Capability Level of a given process.\"\\n   },\\n   {\\n       \"node_1\": \"Measurement framework\",\\n       \"node_2\": \"Process capability levels\",\\n       \"edge\": \"The measurement framework defines and provides rules for determining the Process Capability Levels.\"\\n   },\\n   {\\n       \"node_1\": \"Process capability levels\",\\n       \"node_2\": \"Level 0: Incomplete process\",\\n       \"edge\": \"A capability level is characterized by one or more process attributes whose implementation result in a significant improvement in the capability to perform a process. A process at Level 0 fails to achieve its process purpose.\"\\n   },\\n   {\\n       \"node_1\": \"Process capability levels\",\\n       \"node_2\": \"Level 1: Performed process\",\\n       \"edge\": \"A process at Level 1 achieves its process purpose.\"\\n   },\\n   {\\n       \"node_1\": \"Process capability levels\",\\n       \"node_2\": \"Level 2: Managed process\",\\n       \"edge\": \"A managed process is one that is implemented in a planned, monitored and adjusted fashion and its work products are appropriately established, controlled and maintained.\"\\n   },\\n   {\\n       \"node_1\": \"Measurement framework\",\\n       \"node_2\": \"Process attributes\",\\n       \"edge\": \"Process attributes are features of a process that can be evaluated on a scale of achievement, providing a measurement of the capability of the process.\"\\n   }\\n]'"
      ]
     },
     "execution_count": 7,
     "metadata": {},
     "output_type": "execute_result"
    }
   ],
   "source": [
    "data = response['message']['content']\n",
    "data\n",
    "\n"
   ]
  },
  {
   "cell_type": "markdown",
   "metadata": {},
   "source": [
    "### Test mit der GROQ API\n",
    "\n",
    "The API can be sacve in a .env file. \n",
    "\n",
    "``\n",
    "GROQ_API_KEY=YOUR_API_KEY\n",
    "``"
   ]
  },
  {
   "cell_type": "code",
   "execution_count": 8,
   "metadata": {},
   "outputs": [
    {
     "name": "stdout",
     "output_type": "stream",
     "text": [
      "[\n",
      "  {\n",
      "    \"node_1\": \"Measurement framework\",\n",
      "    \"node_2\": \"Schema\",\n",
      "    \"edge\": \"defines\"\n",
      "  },\n",
      "  {\n",
      "    \"node_1\": \"Measurement framework\",\n",
      "    \"node_2\": \"Process attributes\",\n",
      "    \"edge\": \"defines\"\n",
      "  },\n",
      "  {\n",
      "    \"node_1\": \"Process attributes\",\n",
      "    \"node_2\": \"Capability level\",\n",
      "    \"edge\": \"assigns\"\n",
      "  },\n",
      "  {\n",
      "    \"node_1\": \"Process attributes\",\n",
      "    \"node_2\": \"Rating scale\",\n",
      "    \"edge\": \"represents\"\n",
      "  },\n",
      "  {\n",
      "    \"node_1\": \"Process capability level model\",\n",
      "    \"node_2\": \"Measurement framework\",\n",
      "    \"edge\": \"represents\"\n",
      "  },\n",
      "  {\n",
      "    \"node_1\": \"Automotive SPICE\",\n",
      "    \"node_2\": \"Measurement framework\",\n",
      "    \"edge\": \"defines\"\n",
      "  },\n",
      "  {\n",
      "    \"node_1\": \"ISO/IEC 33020\",\n",
      "    \"node_2\": \"Measurement framework\",\n",
      "    \"edge\": \"adapted from\"\n",
      "  },\n",
      "  {\n",
      "    \"node_1\": \"Process capability levels\",\n",
      "    \"node_2\": \"Process attributes\",\n",
      "    \"edge\": \"describes\"\n",
      "  },\n",
      "  {\n",
      "    \"node_1\": \"Process attributes\",\n",
      "    \"node_2\": \"Capability level\",\n",
      "    \"edge\": \"addresses\"\n",
      "  },\n",
      "  {\n",
      "    \"node_1\": \"Capability level\",\n",
      "    \"node_2\": \"Process\",\n",
      "    \"edge\": \"characterized by\"\n",
      "  },\n",
      "  {\n",
      "    \"node_1\": \"Level 0\",\n",
      "    \"node_2\": \"Process\",\n",
      "    \"edge\": \"characterized by\"\n",
      "  },\n",
      "  {\n",
      "    \"node_1\": \"Level 1\",\n",
      "    \"node_2\": \"Process\",\n",
      "    \"edge\": \"characterized by\"\n",
      "  },\n",
      "  {\n",
      "    \"node_1\": \"Level 2\",\n",
      "    \"node_2\": \"Process\",\n",
      "    \"edge\": \"characterized by\"\n",
      "  }\n",
      "]\n"
     ]
    }
   ],
   "source": [
    "import os\n",
    "from dotenv import load_dotenv\n",
    "\n",
    "# Load the .env file\n",
    "GROQ_API_KEY = load_dotenv(\"../../Project/backend/.env\")\n",
    "\n",
    "from groq import Groq\n",
    "\n",
    "client = Groq(\n",
    "    api_key=os.environ.get(\"GROQ_API_KEY\"),\n",
    ")\n",
    "\n",
    "\n",
    "\n",
    "chat_completion = client.chat.completions.create(\n",
    "messages=[\n",
    "        {\"role\": \"system\", \"content\": SYS_PROMPT},\n",
    "        {\"role\": \"user\", \"content\": USER_PROMPT}\n",
    "    ],\n",
    "    model=\"llama3-8b-8192\",\n",
    "    # model=\"llama3-70b-8192\",\n",
    ")\n",
    "\n",
    "print(chat_completion.choices[0].message.content)"
   ]
  },
  {
   "cell_type": "code",
   "execution_count": 11,
   "metadata": {},
   "outputs": [
    {
     "name": "stdout",
     "output_type": "stream",
     "text": [
      "Nodes DataFrame:\n",
      "                          Node\n",
      "0        Measurement framework\n",
      "1         Capability dimension\n",
      "2                       Schema\n",
      "3    Process capability levels\n",
      "4  Level 0: Incomplete process\n",
      "5   Level 1: Performed process\n",
      "6     Level 2: Managed process\n",
      "7           Process attributes\n",
      "\n",
      "Edges DataFrame:\n",
      "                      Node_1                       Node_2  \\\n",
      "0      Measurement framework         Capability dimension   \n",
      "1      Measurement framework                       Schema   \n",
      "2      Measurement framework    Process capability levels   \n",
      "3      Measurement framework           Process attributes   \n",
      "4  Process capability levels  Level 0: Incomplete process   \n",
      "5  Process capability levels   Level 1: Performed process   \n",
      "6  Process capability levels     Level 2: Managed process   \n",
      "\n",
      "                                                Edge  \n",
      "0  The measurement framework provides the necessa...  \n",
      "1  The measurement framework defines a schema whi...  \n",
      "2  The measurement framework defines and provides...  \n",
      "3  Process attributes are features of a process t...  \n",
      "4  A capability level is characterized by one or ...  \n",
      "5  A process at Level 1 achieves its process purp...  \n",
      "6  A managed process is one that is implemented i...  \n"
     ]
    }
   ],
   "source": [
    "import networkx as nx\n",
    "import matplotlib.pyplot as plt\n",
    "import json\n",
    "import pandas as pd\n",
    "\n",
    "# Parse the JSON string to a Python list of dictionaries\n",
    "data = json.loads(data)\n",
    "\n",
    "\n",
    "G = nx.Graph()\n",
    "\n",
    "# Add nodes and edges to the graph\n",
    "for relation in data:\n",
    "    G.add_node(relation['node_1'])\n",
    "    G.add_node(relation['node_2'])\n",
    "    G.add_edge(relation['node_1'], relation['node_2'], label=relation['edge'])\n",
    "\n",
    "# Create DataFrames for nodes and edges\n",
    "nodes_df = pd.DataFrame(G.nodes(), columns=[\"Node\"])\n",
    "edges_df = pd.DataFrame([(u, v, d['label']) for u, v, d in G.edges(data=True)], columns=[\"Node_1\", \"Node_2\", \"Edge\"])\n",
    "\n",
    "# Print \n",
    "print(\"Nodes DataFrame:\")\n",
    "print(nodes_df)\n",
    "print(\"\\nEdges DataFrame:\")\n",
    "print(edges_df)"
   ]
  },
  {
   "cell_type": "code",
   "execution_count": 12,
   "metadata": {},
   "outputs": [
    {
     "name": "stdout",
     "output_type": "stream",
     "text": [
      "Warning: When  cdn_resources is 'local' jupyter notebook has issues displaying graphics on chrome/safari. Use cdn_resources='in_line' or cdn_resources='remote' if you have issues viewing graphics in a notebook.\n",
      "graph.html\n"
     ]
    }
   ],
   "source": [
    "from pyvis.network import Network\n",
    "\n",
    "def visualize_graph_pyvis(G):\n",
    "    net = Network(notebook=True)\n",
    "\n",
    "    for node in G.nodes:\n",
    "        net.add_node(node, label=node)\n",
    "\n",
    "    for edge in G.edges(data=True):\n",
    "        net.add_edge(edge[0], edge[1], title=edge[2]['label'])\n",
    "\n",
    "    net.show(\"graph.html\")\n",
    "\n",
    "# Create a graph using the pyvis library\n",
    "visualize_graph_pyvis(G)"
   ]
  },
  {
   "cell_type": "code",
   "execution_count": 13,
   "metadata": {},
   "outputs": [
    {
     "name": "stdout",
     "output_type": "stream",
     "text": [
      "Warning: When  cdn_resources is 'local' jupyter notebook has issues displaying graphics on chrome/safari. Use cdn_resources='in_line' or cdn_resources='remote' if you have issues viewing graphics in a notebook.\n",
      "graph.html\n"
     ]
    }
   ],
   "source": [
    "# A modified version of the function to increase the distance between nodes\n",
    "def visualize_graph_pyvis(G):\n",
    "    net = Network(notebook=True, height=\"1000px\", width=\"100%\")\n",
    "\n",
    "    # Physics settings to increase the distance between nodes\n",
    "    net.set_options(\"\"\"\n",
    "    var options = {\n",
    "      \"physics\": {\n",
    "        \"barnesHut\": {\n",
    "          \"gravitationalConstant\": -30000,\n",
    "          \"centralGravity\": 0.3,\n",
    "          \"springLength\": 150,\n",
    "          \"springConstant\": 0.05,\n",
    "          \"damping\": 0.09\n",
    "        },\n",
    "        \"minVelocity\": 0.75\n",
    "      }\n",
    "    }\n",
    "    \"\"\")\n",
    "\n",
    "    for node in G.nodes:\n",
    "        net.add_node(node, label=node)\n",
    "\n",
    "    for edge in G.edges(data=True):\n",
    "        title = edge[2]['label'] if 'label' in edge[2] else ''\n",
    "        net.add_edge(edge[0], edge[1], title=title, label=title)\n",
    "\n",
    "    net.show(\"graph.html\")\n",
    "\n",
    "\n",
    "visualize_graph_pyvis(G)"
   ]
  }
 ],
 "metadata": {
  "kernelspec": {
   "display_name": "Python 3",
   "language": "python",
   "name": "python3"
  },
  "language_info": {
   "codemirror_mode": {
    "name": "ipython",
    "version": 3
   },
   "file_extension": ".py",
   "mimetype": "text/x-python",
   "name": "python",
   "nbconvert_exporter": "python",
   "pygments_lexer": "ipython3",
   "version": "3.10.13"
  }
 },
 "nbformat": 4,
 "nbformat_minor": 2
}
